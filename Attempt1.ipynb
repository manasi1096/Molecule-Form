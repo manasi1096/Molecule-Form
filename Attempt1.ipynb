{
  "nbformat": 4,
  "nbformat_minor": 0,
  "metadata": {
    "colab": {
      "name": "Attempt1- MoleculeVAE.ipynb",
      "provenance": [],
      "collapsed_sections": [],
      "machine_shape": "hm"
    },
    "kernelspec": {
      "name": "python3",
      "display_name": "Python 3"
    },
    "accelerator": "GPU"
  },
  "cells": [
    {
      "cell_type": "code",
      "metadata": {
        "id": "_UvCKS4qJt6c"
      },
      "source": [
        "import sys\n",
        "import numpy as np\n",
        "from numpy.testing import assert_allclose\n",
        "from keras.models import Sequential, load_model\n",
        "from keras.layers import Dense\n",
        "from keras.layers import Dropout\n",
        "from keras.layers import LSTM\n",
        "from keras.callbacks import ModelCheckpoint\n",
        "from keras.utils import np_utils\n",
        "!pip install kora -q\n",
        "import kora.install.rdkit\n",
        "from rdkit import Chem"
      ],
      "execution_count": 52,
      "outputs": []
    },
    {
      "cell_type": "code",
      "metadata": {
        "id": "hCHqs3SZKQ1j"
      },
      "source": [
        "import os\n",
        "os.chdir(\"/content/drive/MyDrive\")"
      ],
      "execution_count": 4,
      "outputs": []
    },
    {
      "cell_type": "code",
      "metadata": {
        "id": "9koEfGcfJwo-"
      },
      "source": [
        "\n",
        "filename = \"in-man.txt\"\n",
        "with open(filename) as f:\n",
        "    \trt = \"\\n\".join(line.strip() for line in f)"
      ],
      "execution_count": 6,
      "outputs": []
    },
    {
      "cell_type": "code",
      "metadata": {
        "colab": {
          "base_uri": "https://localhost:8080/",
          "height": 35
        },
        "id": "YLfRjAnoKAyS",
        "outputId": "cdb59f43-f863-4041-cc27-1b4af4fe2cc4"
      },
      "source": [
        "import os\n",
        "os.getcwd()"
      ],
      "execution_count": 1,
      "outputs": [
        {
          "output_type": "execute_result",
          "data": {
            "application/vnd.google.colaboratory.intrinsic+json": {
              "type": "string"
            },
            "text/plain": [
              "'/content'"
            ]
          },
          "metadata": {
            "tags": []
          },
          "execution_count": 1
        }
      ]
    },
    {
      "cell_type": "code",
      "metadata": {
        "id": "7NK3N_gLKC6k"
      },
      "source": [
        "\n",
        "uqchars = sorted(list(set(rt)))\n",
        "chartoint = dict((c, i) for i, c in enumerate(uqchars)); chartoint.update({-1 : \"\\n\"})\n",
        "intochar = dict((i, c) for i, c in enumerate(uqchars)); intochar.update({\"\\n\" : -1})\n",
        "\n",
        "mappingsize = len(chartoint); rmappingsize = len(intochar)"
      ],
      "execution_count": 50,
      "outputs": []
    },
    {
      "cell_type": "code",
      "metadata": {
        "colab": {
          "base_uri": "https://localhost:8080/"
        },
        "id": "DifrT4rfKuZf",
        "outputId": "06f50cf6-7f31-4ac7-a61e-5618699b02af"
      },
      "source": [
        "\n",
        "assert mapping_size == reverse_mapping_size\n",
        "\n",
        "nchars = len(rt)\n",
        "nvocab = len(unique_chars)\n",
        "\n",
        "slen = 80\n",
        "X = []\n",
        "Y = []\n",
        "for i in range(0, n_chars - slen, 1):\n",
        "\tseq_in = rt[i:i + slen]\n",
        "\tseq_out = rt[i + slen]\n",
        "\tX.append([chartoint[char] for char in seq_in])\n",
        "\tY.append(chartoint[seq_out])\n",
        "\n",
        "n = len(X)\n",
        "\n",
        "X = np.reshape(X, (n, slen, 1)); X = X / float(nvocab)\n",
        "\n",
        " Y = np_utils.to_categorical(Y)\n"
      ],
      "execution_count": 10,
      "outputs": [
        {
          "output_type": "stream",
          "text": [
            "Total number of characters in the file is:  2266945\n"
          ],
          "name": "stdout"
        }
      ]
    },
    {
      "cell_type": "code",
      "metadata": {
        "colab": {
          "base_uri": "https://localhost:8080/"
        },
        "id": "Nl-YL7AfKxwe",
        "outputId": "5e767b65-4c14-4ce0-d67f-02f4050683e3"
      },
      "source": [
        "\n",
        "model = Sequential()\n",
        "model.add(LSTM(128, input_shape=(X.shape[1], X.shape[2]), return_sequences = True))\n",
        "model.add(Dropout(0.2))\n",
        "model.add(LSTM(256, return_sequences = True))\n",
        "model.add(Dropout(0.2))\n",
        "model.add(LSTM(512, return_sequences = True))\n",
        "model.add(Dropout(0.2))\n",
        "model.add(LSTM(1024, return_sequences = True))\n",
        "model.add(Dropout(0.2))\n",
        "model.add(LSTM(512, return_sequences = True))\n",
        "model.add(Dropout(0.2))\n",
        "model.add(LSTM(256, return_sequences = True))\n",
        "model.add(Dropout(0.2))\n",
        "model.add(LSTM(128))\n",
        "model.add(Dropout(0.2))\n",
        "model.add(Dense(Y.shape[1], activation='softmax'))\n",
        "\n",
        "\n",
        "model.compile(loss = 'categorical_crossentropy', optimizer='adam')\n",
        "\n",
        "print(model.summary())\n",
        "\n"
      ],
      "execution_count": 54,
      "outputs": [
        {
          "output_type": "stream",
          "text": [
            "Model: \"sequential_1\"\n",
            "_________________________________________________________________\n",
            "Layer (type)                 Output Shape              Param #   \n",
            "=================================================================\n",
            "lstm_5 (LSTM)                (None, 137, 128)          66560     \n",
            "_________________________________________________________________\n",
            "dropout_5 (Dropout)          (None, 137, 128)          0         \n",
            "_________________________________________________________________\n",
            "lstm_6 (LSTM)                (None, 137, 256)          394240    \n",
            "_________________________________________________________________\n",
            "dropout_6 (Dropout)          (None, 137, 256)          0         \n",
            "_________________________________________________________________\n",
            "lstm_7 (LSTM)                (None, 137, 512)          1574912   \n",
            "_________________________________________________________________\n",
            "dropout_7 (Dropout)          (None, 137, 512)          0         \n",
            "_________________________________________________________________\n",
            "lstm_8 (LSTM)                (None, 137, 1024)         6295552   \n",
            "_________________________________________________________________\n",
            "dropout_8 (Dropout)          (None, 137, 1024)         0         \n",
            "_________________________________________________________________\n",
            "lstm_9 (LSTM)                (None, 137, 512)          3147776   \n",
            "_________________________________________________________________\n",
            "dropout_9 (Dropout)          (None, 137, 512)          0         \n",
            "_________________________________________________________________\n",
            "lstm_10 (LSTM)               (None, 137, 256)          787456    \n",
            "_________________________________________________________________\n",
            "dropout_10 (Dropout)         (None, 137, 256)          0         \n",
            "_________________________________________________________________\n",
            "lstm_11 (LSTM)               (None, 128)               197120    \n",
            "_________________________________________________________________\n",
            "dropout_11 (Dropout)         (None, 128)               0         \n",
            "_________________________________________________________________\n",
            "dense_1 (Dense)              (None, 34)                4386      \n",
            "=================================================================\n",
            "Total params: 12,468,002\n",
            "Trainable params: 12,468,002\n",
            "Non-trainable params: 0\n",
            "_________________________________________________________________\n",
            "None\n"
          ],
          "name": "stdout"
        }
      ]
    },
    {
      "cell_type": "code",
      "metadata": {
        "colab": {
          "base_uri": "https://localhost:8080/"
        },
        "id": "xLbSnqnGK3fr",
        "outputId": "19069456-1732-434a-a530-a00e65fe505f"
      },
      "source": [
        "model.fit(X, Y, epochs = 10, batch_size=1000)"
      ],
      "execution_count": 35,
      "outputs": [
        {
          "output_type": "stream",
          "text": [
            "Epoch 1/10\n",
            "2267/2267 [==============================] - 644s 282ms/step - loss: 1.0651\n",
            "Epoch 2/10\n",
            "2267/2267 [==============================] - 639s 282ms/step - loss: 0.9146\n",
            "Epoch 3/10\n",
            "2267/2267 [==============================] - 639s 282ms/step - loss: 0.8355\n",
            "Epoch 4/10\n",
            "2267/2267 [==============================] - 640s 282ms/step - loss: 0.7844\n",
            "Epoch 5/10\n",
            "2267/2267 [==============================] - 640s 282ms/step - loss: 0.7500\n",
            "Epoch 6/10\n",
            "2267/2267 [==============================] - 639s 282ms/step - loss: 0.7300\n",
            "Epoch 7/10\n",
            "2267/2267 [==============================] - 639s 282ms/step - loss: 0.7090\n",
            "Epoch 8/10\n",
            "2267/2267 [==============================] - 638s 282ms/step - loss: 0.6992\n",
            "Epoch 9/10\n",
            "2267/2267 [==============================] - 641s 283ms/step - loss: 0.6834\n",
            "Epoch 10/10\n",
            "2267/2267 [==============================] - 640s 282ms/step - loss: 0.6752\n"
          ],
          "name": "stdout"
        },
        {
          "output_type": "execute_result",
          "data": {
            "text/plain": [
              "<tensorflow.python.keras.callbacks.History at 0x7f36543f4e80>"
            ]
          },
          "metadata": {
            "tags": []
          },
          "execution_count": 35
        }
      ]
    },
    {
      "cell_type": "code",
      "metadata": {
        "id": "XWTswn_9QNYY"
      },
      "source": [
        "model.compile(loss = 'categorical_crossentropy', optimizer = 'adam')"
      ],
      "execution_count": 40,
      "outputs": []
    },
    {
      "cell_type": "code",
      "metadata": {
        "colab": {
          "base_uri": "https://localhost:8080/"
        },
        "id": "CHxlLCncQXYU",
        "outputId": "44123644-0cfd-43fc-9523-eb63a5687761"
      },
      "source": [
        "start = np.random.randint(3, len(X)-1)\n",
        "pattern = X[start]\n",
        "print (\"\\\"\", ''.join([intochar[value] for value in pattern]), \"\\\"\")\n",
        "\n",
        "for y in range(12):\n",
        "\tx = np.reshape(pattern, (1, len(pattern), 1))\n",
        "\tpred = model.predict(x, verbose=0)\n",
        "\tindex = np.argmax(pred)\n",
        "\tresult = intochar[index]; seq_in = [intochar[value] for value in pattern]\n",
        "\tsys.stdout.write(result); pattern.append(index)\n",
        "\tpattern = pattern[1:len(pattern)]\n"
      ],
      "execution_count": 60,
      "outputs": [
        {
          "output_type": "stream",
          "text": [
            "\" cc(C#N)c(Cl)c1)C(C)(C)c1ccccc1\n",
            "CCOc1ccccc1OCC(=O)N(C)CC#N\n",
            "COc1cccc2sc(N(CC[NH+](C)C)C(=O)CN3C(=O)c4ccccc4C3=O)nc12\n",
            "Cc1ccn2nc(N[C@@H](C)c3 \"\n",
            "////////////"
          ],
          "name": "stdout"
        }
      ]
    },
    {
      "cell_type": "code",
      "metadata": {
        "colab": {
          "base_uri": "https://localhost:8080/"
        },
        "id": "oNwrNjwyvQ9y",
        "outputId": "da7f5350-b2b3-4f77-ef6a-53f920eeabd1"
      },
      "source": [
        "start = np.random.randint(3, len(X)-1)\n",
        "pattern = X[start]\n",
        "print (\"\\\"\", ''.join([intochar[value] for value in pattern]), \"\\\"\")\n",
        "\n",
        "\n",
        "for i in range(9):\n",
        "\tx = np.reshape(pattern, (1, len(pattern), 1))\n",
        "\tpred = model.predict(x, verbose=0)\n",
        "\tind = np.argmax(pred)\n",
        "\tresult = intochar[ind]; seq_in = [intochar[value] for value in pattern]\n",
        "\tsys.stdout.write(result); pattern.append(index)\n",
        "\tpattern = pattern[1:len(pattern)]\n"
      ],
      "execution_count": 61,
      "outputs": [
        {
          "output_type": "stream",
          "text": [
            "\" @@H]2CN(Cc3[nH+]ccn3C)C[C@H]2C(=O)[O-])c1\n",
            "CC(C)Cn1cnnc1[C@@H]1CCCN1C(=O)c1cccc(SCC#N)c1\n",
            "CN(Cc1nccs1)c1ccc([N+](=O)[O-])cc1[N+](=O)[O-]\n",
            "Cc \"\n",
            "/////////"
          ],
          "name": "stdout"
        }
      ]
    },
    {
      "cell_type": "code",
      "metadata": {
        "colab": {
          "base_uri": "https://localhost:8080/"
        },
        "id": "Ai9VDIqj30bJ",
        "outputId": "ccd99fc9-3318-4a11-928f-e8173f1c2738"
      },
      "source": [
        "start = np.random.randint(9873, len(X)-1)\n",
        "pattern = X[start]\n",
        "print (\"\\\"\", ''.join([intochar[value] for value in pattern]), \"\\\"\")\n",
        "\n",
        "\n",
        "for i in range(9):\n",
        "\tx = np.reshape(pattern, (1, len(pattern), 1))\n",
        "\tpred = model.predict(x, verbose=0)\n",
        "\tind = np.argmax(pred)\n",
        "\tresult = intochar[ind]\n",
        "\tseq_in = [intochar[value] for value in pattern]\n",
        "\tsys.stdout.write(result)\n",
        "\tpattern.append(ind)\n",
        "\tpattern = pattern[1:len(pattern)]"
      ],
      "execution_count": 64,
      "outputs": [
        {
          "output_type": "stream",
          "text": [
            "\" C3/C(=N)N4N=CSC4=NC3=O)cc2Cl)cc1\n",
            "CC1CCC(NC(=O)CS(=O)(=O)C[C@H]2CCCO2)CC1\n",
            "O=C1N[C@](c2cccnc2)(C2CC[NH2+]CC2)C(=O)N1CCO\n",
            "Cc1occc(=O)c1OCC(=O \"\n",
            "/////////"
          ],
          "name": "stdout"
        }
      ]
    },
    {
      "cell_type": "code",
      "metadata": {
        "colab": {
          "base_uri": "https://localhost:8080/",
          "height": 771
        },
        "id": "_PUlZiT7QugP",
        "outputId": "816c1c9f-7941-4158-fa13-4f9f87349e44"
      },
      "source": [
        "#Plotting the new molecule \n",
        "\n",
        "from rdkit.Chem import Draw\n",
        "mole_smile = \"C[C@H]1[C@@H](O)[C@H](CO)O[C@@H](O)[C@@H]1N\"\n",
        "mole = Chem.MolFromSmiles(mole_smile)\n",
        "Draw.MolToMPL(mole, size=(250,200))"
      ],
      "execution_count": 57,
      "outputs": [
        {
          "output_type": "execute_result",
          "data": {
            "image/png": "[encoded data removed]",
            "text/plain": [
              "<Figure size 144x144 with 1 Axes>"
            ]
          },
          "metadata": {
            "tags": []
          },
          "execution_count": 57
        },
        {
          "output_type": "display_data",
          "data": {
            "image/png": "[encoded data removed]",
            "text/plain": [
              "<Figure size 144x144 with 1 Axes>"
            ]
          },
          "metadata": {
            "tags": [],
            "needs_background": "light"
          }
        }
      ]
    }
  ]
}